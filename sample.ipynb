{
 "cells": [
  {
   "cell_type": "code",
   "execution_count": 24,
   "metadata": {
    "collapsed": true
   },
   "outputs": [],
   "source": [
    "import pandas as pd\n",
    "import numpy as np\n",
    "import matplotlib.pyplot as plt\n",
    "import math\n",
    "from bdateutil import isbday\n",
    "from datetime import datetime,date\n",
    "import scipy.optimize as optimize\n",
    "%matplotlib inline"
   ]
  },
  {
   "cell_type": "markdown",
   "metadata": {},
   "source": [
    "### PART 1: pivot data"
   ]
  },
  {
   "cell_type": "code",
   "execution_count": 2,
   "metadata": {
    "collapsed": false
   },
   "outputs": [
    {
     "name": "stdout",
     "output_type": "stream",
     "text": [
      "       DATE TICKER        RM         R\n",
      "0  1990/1/2    IBM  0.017799  0.041169\n",
      "1  1990/1/3    IBM -0.002586  0.008929\n",
      "2  1990/1/4    IBM -0.008613  0.011378\n",
      "3  1990/1/5    IBM -0.009756 -0.002500\n",
      "4  1990/1/8    IBM  0.004514  0.006266\n"
     ]
    },
    {
     "data": {
      "text/plain": [
       "0    1990/1/2\n",
       "1    1990/1/3\n",
       "2    1990/1/4\n",
       "Name: DATE, dtype: object"
      ]
     },
     "execution_count": 2,
     "metadata": {},
     "output_type": "execute_result"
    }
   ],
   "source": [
    "df = pd.read_csv('BetaExample.csv')\n",
    "print(df.head())\n",
    "df['DATE'].head(3)"
   ]
  },
  {
   "cell_type": "code",
   "execution_count": 3,
   "metadata": {
    "collapsed": false
   },
   "outputs": [
    {
     "data": {
      "text/html": [
       "<div>\n",
       "<style>\n",
       "    .dataframe thead tr:only-child th {\n",
       "        text-align: right;\n",
       "    }\n",
       "\n",
       "    .dataframe thead th {\n",
       "        text-align: left;\n",
       "    }\n",
       "\n",
       "    .dataframe tbody tr th {\n",
       "        vertical-align: top;\n",
       "    }\n",
       "</style>\n",
       "<table border=\"1\" class=\"dataframe\">\n",
       "  <thead>\n",
       "    <tr>\n",
       "      <th></th>\n",
       "      <th>DATE</th>\n",
       "      <th colspan=\"3\" halign=\"left\">R</th>\n",
       "      <th colspan=\"3\" halign=\"left\">RM</th>\n",
       "    </tr>\n",
       "    <tr>\n",
       "      <th>TICKER</th>\n",
       "      <th></th>\n",
       "      <th>AAPL</th>\n",
       "      <th>IBM</th>\n",
       "      <th>TSLA</th>\n",
       "      <th>AAPL</th>\n",
       "      <th>IBM</th>\n",
       "      <th>TSLA</th>\n",
       "    </tr>\n",
       "  </thead>\n",
       "  <tbody>\n",
       "    <tr>\n",
       "      <th>0</th>\n",
       "      <td>1990/1/10</td>\n",
       "      <td>-0.043189</td>\n",
       "      <td>-0.003774</td>\n",
       "      <td>NaN</td>\n",
       "      <td>-0.006607</td>\n",
       "      <td>-0.006607</td>\n",
       "      <td>-0.006607</td>\n",
       "    </tr>\n",
       "    <tr>\n",
       "      <th>1</th>\n",
       "      <td>1990/1/11</td>\n",
       "      <td>-0.041667</td>\n",
       "      <td>0.008838</td>\n",
       "      <td>NaN</td>\n",
       "      <td>0.003513</td>\n",
       "      <td>0.003513</td>\n",
       "      <td>0.003513</td>\n",
       "    </tr>\n",
       "    <tr>\n",
       "      <th>2</th>\n",
       "      <td>1990/1/12</td>\n",
       "      <td>0.000000</td>\n",
       "      <td>-0.020025</td>\n",
       "      <td>NaN</td>\n",
       "      <td>-0.024675</td>\n",
       "      <td>-0.024675</td>\n",
       "      <td>-0.024675</td>\n",
       "    </tr>\n",
       "    <tr>\n",
       "      <th>3</th>\n",
       "      <td>1990/1/15</td>\n",
       "      <td>-0.007246</td>\n",
       "      <td>0.002554</td>\n",
       "      <td>NaN</td>\n",
       "      <td>-0.008619</td>\n",
       "      <td>-0.008619</td>\n",
       "      <td>-0.008619</td>\n",
       "    </tr>\n",
       "    <tr>\n",
       "      <th>4</th>\n",
       "      <td>1990/1/16</td>\n",
       "      <td>0.018248</td>\n",
       "      <td>0.020382</td>\n",
       "      <td>NaN</td>\n",
       "      <td>0.011128</td>\n",
       "      <td>0.011128</td>\n",
       "      <td>0.011128</td>\n",
       "    </tr>\n",
       "  </tbody>\n",
       "</table>\n",
       "</div>"
      ],
      "text/plain": [
       "             DATE         R                       RM                    \n",
       "TICKER                 AAPL       IBM TSLA      AAPL       IBM      TSLA\n",
       "0       1990/1/10 -0.043189 -0.003774  NaN -0.006607 -0.006607 -0.006607\n",
       "1       1990/1/11 -0.041667  0.008838  NaN  0.003513  0.003513  0.003513\n",
       "2       1990/1/12  0.000000 -0.020025  NaN -0.024675 -0.024675 -0.024675\n",
       "3       1990/1/15 -0.007246  0.002554  NaN -0.008619 -0.008619 -0.008619\n",
       "4       1990/1/16  0.018248  0.020382  NaN  0.011128  0.011128  0.011128"
      ]
     },
     "execution_count": 3,
     "metadata": {},
     "output_type": "execute_result"
    }
   ],
   "source": [
    "df = pd.pivot_table(df, index = ['DATE'], columns = ['TICKER'], values = ['R','RM'])\n",
    "df = df.reset_index()\n",
    "df.head()"
   ]
  },
  {
   "cell_type": "code",
   "execution_count": 4,
   "metadata": {
    "collapsed": false
   },
   "outputs": [
    {
     "name": "stdout",
     "output_type": "stream",
     "text": [
      "0   -0.043189\n",
      "1   -0.041667\n",
      "2    0.000000\n",
      "Name: AAPL, dtype: float64\n",
      "TICKER      AAPL       IBM  TSLA\n",
      "0      -0.043189 -0.003774   NaN\n",
      "1      -0.041667  0.008838   NaN\n",
      "2       0.000000 -0.020025   NaN\n",
      "0    1990/1/10\n",
      "1    1990/1/11\n",
      "2    1990/1/12\n",
      "Name: DATE, dtype: object\n"
     ]
    }
   ],
   "source": [
    "print(df['R']['AAPL'].head(3))\n",
    "print(df['R'].head(3))\n",
    "print(df['DATE'].head(3))"
   ]
  },
  {
   "cell_type": "code",
   "execution_count": 84,
   "metadata": {
    "collapsed": false
   },
   "outputs": [
    {
     "name": "stdout",
     "output_type": "stream",
     "text": [
      "           DATE TICKER        RM         R\n",
      "0      1990/1/2    IBM  0.017799  0.041169\n",
      "1      1990/1/3    IBM -0.002586  0.008929\n",
      "2      1990/1/4    IBM -0.008613  0.011378\n",
      "3      1990/1/5    IBM -0.009756 -0.002500\n",
      "4      1990/1/8    IBM  0.004514  0.006266\n",
      "6552   1990/1/2   AAPL  0.017799  0.056738\n",
      "6553   1990/1/3   AAPL -0.002586  0.006711\n",
      "6554   1990/1/4   AAPL -0.008613  0.003333\n",
      "6555   1990/1/5   AAPL -0.009756  0.003322\n",
      "6556   1990/1/8   AAPL  0.004514  0.006623\n",
      "13104  1990/1/2   TSLA  0.017799       NaN\n",
      "13105  1990/1/3   TSLA -0.002586       NaN\n",
      "13106  1990/1/4   TSLA -0.008613       NaN\n",
      "13107  1990/1/5   TSLA -0.009756       NaN\n",
      "13108  1990/1/8   TSLA  0.004514       NaN\n"
     ]
    }
   ],
   "source": [
    "#grp = df.groupby(['TICKER'])\n",
    "#print(grp.head())"
   ]
  },
  {
   "cell_type": "markdown",
   "metadata": {},
   "source": [
    "### PART 2: clean data\n",
    "#### 1. check for outliers\n",
    "#### 2. check for business day"
   ]
  },
  {
   "cell_type": "code",
   "execution_count": 5,
   "metadata": {
    "collapsed": true
   },
   "outputs": [],
   "source": [
    "df.to_excel('foo.xlsx', sheet_name='Sheet1')"
   ]
  },
  {
   "cell_type": "code",
   "execution_count": 25,
   "metadata": {
    "collapsed": false
   },
   "outputs": [
    {
     "name": "stdout",
     "output_type": "stream",
     "text": [
      "        DATE      AAPL       IBM  TSLA        RM\n",
      "0  1990/1/10 -0.043189 -0.003774   NaN -0.006607\n",
      "1  1990/1/11 -0.041667  0.008838   NaN  0.003513\n",
      "2  1990/1/12  0.000000 -0.020025   NaN -0.024675\n",
      "3  1990/1/15 -0.007246  0.002554   NaN -0.008619\n",
      "4  1990/1/16  0.018248  0.020382   NaN  0.011128\n"
     ]
    }
   ],
   "source": [
    "data = pd.read_table('foo.csv', sep = ',')\n",
    "print(data.head())"
   ]
  },
  {
   "cell_type": "code",
   "execution_count": 26,
   "metadata": {
    "collapsed": false
   },
   "outputs": [
    {
     "data": {
      "text/plain": [
       "[<matplotlib.lines.Line2D at 0x10efc7da0>]"
      ]
     },
     "execution_count": 26,
     "metadata": {},
     "output_type": "execute_result"
    },
    {
     "data": {
      "image/png": "[encoded data removed]",
      "text/plain": [
       "<matplotlib.figure.Figure at 0x11bb2bbe0>"
      ]
     },
     "metadata": {},
     "output_type": "display_data"
    }
   ],
   "source": [
    "plt.plot(data['AAPL'])"
   ]
  },
  {
   "cell_type": "code",
   "execution_count": 27,
   "metadata": {
    "collapsed": true
   },
   "outputs": [],
   "source": [
    "def erase(colnames, data):\n",
    "    mean = []\n",
    "    std = []\n",
    "    for tck in colnames:\n",
    "        mean.append(data[tck].mean())\n",
    "        std.append(data[tck].std())\n",
    "    for i in range(len(data.index)):\n",
    "        if not isbday(datetime.strptime(data['DATE'][i], '%Y/%m/%d')):\n",
    "            data = data.drop([i])\n",
    "            break\n",
    "        for j in range(3):\n",
    "            tck = colnames[j]\n",
    "            if math.isnan(data[tck][i]):\n",
    "                data = data.drop([i])\n",
    "                break\n",
    "            elif abs(data[tck][i] - mean[j]) >= 3 * std[j]:\n",
    "                data = data.drop([i])\n",
    "                break\n",
    "    return data"
   ]
  },
  {
   "cell_type": "code",
   "execution_count": 28,
   "metadata": {
    "collapsed": false
   },
   "outputs": [
    {
     "data": {
      "text/plain": [
       "[<matplotlib.lines.Line2D at 0x11421cf60>]"
      ]
     },
     "execution_count": 28,
     "metadata": {},
     "output_type": "execute_result"
    },
    {
     "data": {
      "image/png": "[encoded data removed]",
      "text/plain": [
       "<matplotlib.figure.Figure at 0x117732080>"
      ]
     },
     "metadata": {},
     "output_type": "display_data"
    }
   ],
   "source": [
    "colnames = ['AAPL', 'IBM', 'TSLA']\n",
    "cleaned_data = erase(colnames, data)\n",
    "nrow = len(cleaned_data.index)\n",
    "cleaned_data.index = range(nrow)\n",
    "plt.plot(cleaned_data['AAPL'])"
   ]
  },
  {
   "cell_type": "markdown",
   "metadata": {},
   "source": [
    "### PART 3 average return and covariance matrix\n"
   ]
  },
  {
   "cell_type": "code",
   "execution_count": 29,
   "metadata": {
    "collapsed": false
   },
   "outputs": [
    {
     "data": {
      "text/html": [
       "<div>\n",
       "<table border=\"1\" class=\"dataframe\">\n",
       "  <thead>\n",
       "    <tr style=\"text-align: right;\">\n",
       "      <th></th>\n",
       "      <th>AAPL</th>\n",
       "      <th>IBM</th>\n",
       "      <th>TSLA</th>\n",
       "    </tr>\n",
       "  </thead>\n",
       "  <tbody>\n",
       "    <tr>\n",
       "      <th>0</th>\n",
       "      <td>-0.004335</td>\n",
       "      <td>0.011182</td>\n",
       "      <td>0.009556</td>\n",
       "    </tr>\n",
       "    <tr>\n",
       "      <th>1</th>\n",
       "      <td>0.004387</td>\n",
       "      <td>0.005834</td>\n",
       "      <td>-0.009300</td>\n",
       "    </tr>\n",
       "    <tr>\n",
       "      <th>2</th>\n",
       "      <td>0.010767</td>\n",
       "      <td>0.001360</td>\n",
       "      <td>0.000000</td>\n",
       "    </tr>\n",
       "    <tr>\n",
       "      <th>3</th>\n",
       "      <td>0.005359</td>\n",
       "      <td>0.003718</td>\n",
       "      <td>0.014822</td>\n",
       "    </tr>\n",
       "    <tr>\n",
       "      <th>4</th>\n",
       "      <td>0.007230</td>\n",
       "      <td>0.008050</td>\n",
       "      <td>0.010224</td>\n",
       "    </tr>\n",
       "  </tbody>\n",
       "</table>\n",
       "</div>"
      ],
      "text/plain": [
       "       AAPL       IBM      TSLA\n",
       "0 -0.004335  0.011182  0.009556\n",
       "1  0.004387  0.005834 -0.009300\n",
       "2  0.010767  0.001360  0.000000\n",
       "3  0.005359  0.003718  0.014822\n",
       "4  0.007230  0.008050  0.010224"
      ]
     },
     "execution_count": 29,
     "metadata": {},
     "output_type": "execute_result"
    }
   ],
   "source": [
    "subset = cleaned_data[['AAPL', 'IBM', 'TSLA']]\n",
    "subset.head()"
   ]
  },
  {
   "cell_type": "code",
   "execution_count": 30,
   "metadata": {
    "collapsed": false
   },
   "outputs": [
    {
     "data": {
      "text/plain": [
       "(1355, 3)"
      ]
     },
     "execution_count": 30,
     "metadata": {},
     "output_type": "execute_result"
    }
   ],
   "source": [
    "subset.shape"
   ]
  },
  {
   "cell_type": "code",
   "execution_count": 31,
   "metadata": {
    "collapsed": false
   },
   "outputs": [
    {
     "data": {
      "text/plain": [
       "array([[ 1.        ,  0.26777924],\n",
       "       [ 0.26777924,  1.        ]])"
      ]
     },
     "execution_count": 31,
     "metadata": {},
     "output_type": "execute_result"
    }
   ],
   "source": [
    "np.corrcoef(subset['AAPL'], subset['TSLA'])"
   ]
  },
  {
   "cell_type": "code",
   "execution_count": 32,
   "metadata": {
    "collapsed": false
   },
   "outputs": [
    {
     "name": "stdout",
     "output_type": "stream",
     "text": [
      "          AAPL       IBM      TSLA\n",
      "AAPL  0.000257  0.000073  0.000123\n",
      "IBM   0.000073  0.000125  0.000092\n",
      "TSLA  0.000123  0.000092  0.000823\n",
      "          AAPL       IBM      TSLA\n",
      "AAPL  1.000000  0.408593  0.267779\n",
      "IBM   0.408593  1.000000  0.285787\n",
      "TSLA  0.267779  0.285787  1.000000\n"
     ]
    }
   ],
   "source": [
    "print(subset.cov())\n",
    "print(subset.corr())\n",
    "Cov = np.array(subset.cov())"
   ]
  },
  {
   "cell_type": "markdown",
   "metadata": {},
   "source": [
    "Some other ideas could be:\n",
    "\n",
    "test for vol.\n",
    "\n",
    "find mean-reversion, stock GBM and interest rate OU process."
   ]
  },
  {
   "cell_type": "code",
   "execution_count": 33,
   "metadata": {
    "collapsed": false,
    "scrolled": true
   },
   "outputs": [
    {
     "name": "stdout",
     "output_type": "stream",
     "text": [
      "mean [0.0009691586715867167, 0.00040068856088560896, 0.0014412619926199228]\n",
      "std [0.016040356310778298, 0.011185657292837162, 0.028693219114464295]\n"
     ]
    }
   ],
   "source": [
    "mean = []\n",
    "std = []\n",
    "for tck in colnames:\n",
    "    mean.append(subset[tck].mean())\n",
    "    std.append(subset[tck].std())\n",
    "print('mean', mean)\n",
    "print('std', std)"
   ]
  },
  {
   "cell_type": "code",
   "execution_count": 34,
   "metadata": {
    "collapsed": false
   },
   "outputs": [
    {
     "name": "stdout",
     "output_type": "stream",
     "text": [
      "[[ 0.00096916]\n",
      " [ 0.00040069]\n",
      " [ 0.00144126]]\n"
     ]
    }
   ],
   "source": [
    "mean = np.array([[mean[0]], [mean[1]], [mean[2]]])\n",
    "print(mean)"
   ]
  },
  {
   "cell_type": "markdown",
   "metadata": {},
   "source": [
    "### PART4: portfolio allocation---closed form"
   ]
  },
  {
   "cell_type": "markdown",
   "metadata": {
    "collapsed": true
   },
   "source": [
    "### Assumptions\n",
    "1. Long only\n",
    "2. fully invest"
   ]
  },
  {
   "cell_type": "markdown",
   "metadata": {},
   "source": [
    "### Three optimazations\n",
    "1. Max return: long the one with the highest mean\n",
    "2. Min variance\n",
    "3. mean-variance"
   ]
  },
  {
   "cell_type": "code",
   "execution_count": 45,
   "metadata": {
    "collapsed": false
   },
   "outputs": [
    {
     "name": "stdout",
     "output_type": "stream",
     "text": [
      "      fun: 0.00011342611544639702\n",
      " hess_inv: array([[ 2205.27189817, -1965.54545611],\n",
      "       [-1965.54545611,  2404.7093364 ]])\n",
      "      jac: array([ 0.,  0.])\n",
      "  message: 'Optimization terminated successfully.'\n",
      "     nfev: 76\n",
      "      nit: 11\n",
      "     njev: 19\n",
      "   status: 0\n",
      "  success: True\n",
      "        x: array([ 0.21247324,  0.76701669])\n"
     ]
    }
   ],
   "source": [
    "# min variance with a constraint\n",
    "def f2(h):\n",
    "    h = np.append(h, 1 - sum(h))\n",
    "    return h.transpose().dot(Cov).dot(h)\n",
    "\n",
    "initial_guess = np.array([[0], [0]])\n",
    "res2 = optimize.minimize(f2, initial_guess, tol = 1e-12)\n",
    "print(res2)"
   ]
  },
  {
   "cell_type": "code",
   "execution_count": 127,
   "metadata": {
    "collapsed": false
   },
   "outputs": [
    {
     "data": {
      "text/plain": [
       "array([ 0.21245605,  0.76703532,  0.02050864])"
      ]
     },
     "execution_count": 127,
     "metadata": {},
     "output_type": "execute_result"
    }
   ],
   "source": [
    "np.append(res2.x, 1 - sum(res2.x))"
   ]
  },
  {
   "cell_type": "markdown",
   "metadata": {},
   "source": [
    "#### mean variance (without cash limit constraint)\n",
    "the objective function can be written as:\n",
    "$$\n",
    "f(h) = h^T r - \\frac{1}{2}\\lambda h^T C h\n",
    "$$\n",
    "where $h$ is the holding vector and $\\lambda$ is to describe risk aversion.\n",
    "\n",
    "Take derivative with respect to $h$ and we have:\n",
    "$$\n",
    "\\frac{\\partial f}{\\partial h} = r - \\lambda C h\n",
    "$$\n",
    "By letting it to zero and solve the equation we get:\n",
    "$$\n",
    "h = \\frac{1}{\\lambda} C^{-1} r\n",
    "$$"
   ]
  },
  {
   "cell_type": "code",
   "execution_count": 47,
   "metadata": {
    "collapsed": false
   },
   "outputs": [
    {
     "data": {
      "text/plain": [
       "array([[ 3.0242807 ],\n",
       "       [ 0.52159522],\n",
       "       [ 1.23975457]])"
      ]
     },
     "execution_count": 47,
     "metadata": {},
     "output_type": "execute_result"
    }
   ],
   "source": [
    "lambd = 1\n",
    "1 / lambd * np.linalg.inv(Cov).dot(mean)"
   ]
  },
  {
   "cell_type": "code",
   "execution_count": 52,
   "metadata": {
    "collapsed": false
   },
   "outputs": [
    {
     "name": "stdout",
     "output_type": "stream",
     "text": [
      "     fun: array([-0.00106076])\n",
      "     jac: array([-0.00080928, -0.000314  , -0.00080928,  0.        ])\n",
      " message: 'Optimization terminated successfully.'\n",
      "    nfev: 35\n",
      "     nit: 7\n",
      "    njev: 7\n",
      "  status: 0\n",
      " success: True\n",
      "       x: array([  2.73290182e-01,   2.77826807e-18,   7.26709818e-01])\n"
     ]
    }
   ],
   "source": [
    "def f(h):\n",
    "    return -h.transpose().dot(mean) + 0.5 * lambd * h.transpose().dot(Cov).dot(h)\n",
    "\n",
    "cons = [{'type':'ineq', 'fun': lambda x: x[0]},\n",
    "        {'type':'ineq', 'fun': lambda x: x[1]},\n",
    "        {'type':'ineq', 'fun': lambda x: x[2]},\n",
    "        {'type':'eq', 'fun': lambda x: sum(x) - 1}]\n",
    "\n",
    "\n",
    "initial_guess = np.array([[0], [0], [1]])\n",
    "#bnds = ((0, 1), (0, 1))\n",
    "res = optimize.minimize(f, initial_guess, constraints = cons, tol = 1e-12)\n",
    "print(res)"
   ]
  },
  {
   "cell_type": "markdown",
   "metadata": {},
   "source": [
    "### PART5: portfolio allocation---Monte Carlo"
   ]
  },
  {
   "cell_type": "code",
   "execution_count": 231,
   "metadata": {
    "collapsed": true
   },
   "outputs": [],
   "source": [
    "N = 100000\n",
    "randnum = np.random.rand(N, 3)\n",
    "path = randnum"
   ]
  },
  {
   "cell_type": "code",
   "execution_count": 232,
   "metadata": {
    "collapsed": false
   },
   "outputs": [
    {
     "data": {
      "text/plain": [
       "array([ 0.49812809,  0.13419182,  0.36768009])"
      ]
     },
     "execution_count": 232,
     "metadata": {},
     "output_type": "execute_result"
    }
   ],
   "source": [
    "total = [sum(randnum[i]) for i in range(N)]\n",
    "path = [randnum[i] / total[i] for i in range(N)]\n",
    "path[0]"
   ]
  },
  {
   "cell_type": "markdown",
   "metadata": {},
   "source": [
    "#### min variance and mean variance\n",
    "$$\n",
    "min\\ var = h^T C h\n",
    "$$\n",
    "\n",
    "$$\n",
    "max\\ f(h) = h^T (r - r_f) - \\frac{1}{2}\\lambda h^T C h\n",
    "$$"
   ]
  },
  {
   "cell_type": "code",
   "execution_count": 259,
   "metadata": {
    "collapsed": true
   },
   "outputs": [],
   "source": [
    "min_var = []\n",
    "mean_var = []\n",
    "path_ret = []\n",
    "\n",
    "for i in path:\n",
    "    #print(i)\n",
    "    h = np.array([[i[0]], [i[1]], [i[2]]])\n",
    "    var = h.transpose().dot(Cov).dot(h)\n",
    "    r = h.transpose().dot(mean)\n",
    "    f = r - 0.5 * lambd * var\n",
    "    path_ret.append(r[0][0])\n",
    "    #print('var', var)\n",
    "    #print('f', f)\n",
    "    min_var.append(var[0][0])\n",
    "    #print('min_var', min_var)\n",
    "    mean_var.append(f[0][0])\n"
   ]
  },
  {
   "cell_type": "code",
   "execution_count": 260,
   "metadata": {
    "collapsed": false
   },
   "outputs": [
    {
     "name": "stdout",
     "output_type": "stream",
     "text": [
      "min variance [ 0.21187386  0.76832676  0.01979938]\n",
      "mean variance [  2.68891914e-01   1.64361569e-04   7.30943725e-01]\n"
     ]
    }
   ],
   "source": [
    "# For min variance\n",
    "path_min = path[min_var.index(min(min_var))]\n",
    "print('min variance', path_min)\n",
    "\n",
    "# For mean variance\n",
    "path_mean = path[mean_var.index(max(mean_var))]\n",
    "print('mean variance', path_mean)"
   ]
  },
  {
   "cell_type": "code",
   "execution_count": 268,
   "metadata": {
    "collapsed": false
   },
   "outputs": [
    {
     "data": {
      "text/plain": [
       "(0, 0.03)"
      ]
     },
     "execution_count": 268,
     "metadata": {},
     "output_type": "execute_result"
    },
    {
     "data": {
      "image/png": "[encoded data removed]",
      "text/plain": [
       "<matplotlib.figure.Figure at 0x22291eb7c50>"
      ]
     },
     "metadata": {},
     "output_type": "display_data"
    }
   ],
   "source": [
    "# plot efficient frontier\n",
    "path_sd = [np.sqrt(num) for num in min_var]\n",
    "plt.plot(path_sd, path_ret)\n",
    "plt.ylim([0, 0.0015])\n",
    "plt.xlim([0,0.03])"
   ]
  },
  {
   "cell_type": "code",
   "execution_count": null,
   "metadata": {
    "collapsed": true
   },
   "outputs": [],
   "source": []
  },
  {
   "cell_type": "code",
   "execution_count": null,
   "metadata": {
    "collapsed": true
   },
   "outputs": [],
   "source": []
  }
 ],
 "metadata": {
  "kernelspec": {
   "display_name": "Python 3",
   "language": "python",
   "name": "python3"
  },
  "language_info": {
   "codemirror_mode": {
    "name": "ipython",
    "version": 3
   },
   "file_extension": ".py",
   "mimetype": "text/x-python",
   "name": "python",
   "nbconvert_exporter": "python",
   "pygments_lexer": "ipython3",
   "version": "3.6.0"
  }
 },
 "nbformat": 4,
 "nbformat_minor": 2
}
