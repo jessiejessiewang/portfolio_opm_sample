{
 "cells": [
  {
   "cell_type": "code",
   "execution_count": 1,
   "metadata": {
    "collapsed": true
   },
   "outputs": [],
   "source": [
    "import pandas as pd\n",
    "import numpy as np\n",
    "import matplotlib.pyplot as plt\n",
    "import math\n",
    "from bdateutil import isbday\n",
    "from datetime import datetime,date\n",
    "%matplotlib inline"
   ]
  },
  {
   "cell_type": "markdown",
   "metadata": {},
   "source": [
    "### PART 1: pivot data"
   ]
  },
  {
   "cell_type": "code",
   "execution_count": 2,
   "metadata": {
    "collapsed": false
   },
   "outputs": [
    {
     "name": "stdout",
     "output_type": "stream",
     "text": [
      "       DATE TICKER        RM         R\n",
      "0  1990/1/2    IBM  0.017799  0.041169\n",
      "1  1990/1/3    IBM -0.002586  0.008929\n",
      "2  1990/1/4    IBM -0.008613  0.011378\n",
      "3  1990/1/5    IBM -0.009756 -0.002500\n",
      "4  1990/1/8    IBM  0.004514  0.006266\n"
     ]
    },
    {
     "data": {
      "text/plain": [
       "0    1990/1/2\n",
       "1    1990/1/3\n",
       "2    1990/1/4\n",
       "Name: DATE, dtype: object"
      ]
     },
     "execution_count": 2,
     "metadata": {},
     "output_type": "execute_result"
    }
   ],
   "source": [
    "df = pd.read_csv('BetaExample.csv')\n",
    "print(df.head())\n",
    "df['DATE'].head(3)"
   ]
  },
  {
   "cell_type": "code",
   "execution_count": 3,
   "metadata": {
    "collapsed": false
   },
   "outputs": [
    {
     "data": {
      "text/html": [
       "<div>\n",
       "<style>\n",
       "    .dataframe thead tr:only-child th {\n",
       "        text-align: right;\n",
       "    }\n",
       "\n",
       "    .dataframe thead th {\n",
       "        text-align: left;\n",
       "    }\n",
       "\n",
       "    .dataframe tbody tr th {\n",
       "        vertical-align: top;\n",
       "    }\n",
       "</style>\n",
       "<table border=\"1\" class=\"dataframe\">\n",
       "  <thead>\n",
       "    <tr>\n",
       "      <th></th>\n",
       "      <th>DATE</th>\n",
       "      <th colspan=\"3\" halign=\"left\">R</th>\n",
       "      <th colspan=\"3\" halign=\"left\">RM</th>\n",
       "    </tr>\n",
       "    <tr>\n",
       "      <th>TICKER</th>\n",
       "      <th></th>\n",
       "      <th>AAPL</th>\n",
       "      <th>IBM</th>\n",
       "      <th>TSLA</th>\n",
       "      <th>AAPL</th>\n",
       "      <th>IBM</th>\n",
       "      <th>TSLA</th>\n",
       "    </tr>\n",
       "  </thead>\n",
       "  <tbody>\n",
       "    <tr>\n",
       "      <th>0</th>\n",
       "      <td>1990/1/10</td>\n",
       "      <td>-0.043189</td>\n",
       "      <td>-0.003774</td>\n",
       "      <td>NaN</td>\n",
       "      <td>-0.006607</td>\n",
       "      <td>-0.006607</td>\n",
       "      <td>-0.006607</td>\n",
       "    </tr>\n",
       "    <tr>\n",
       "      <th>1</th>\n",
       "      <td>1990/1/11</td>\n",
       "      <td>-0.041667</td>\n",
       "      <td>0.008838</td>\n",
       "      <td>NaN</td>\n",
       "      <td>0.003513</td>\n",
       "      <td>0.003513</td>\n",
       "      <td>0.003513</td>\n",
       "    </tr>\n",
       "    <tr>\n",
       "      <th>2</th>\n",
       "      <td>1990/1/12</td>\n",
       "      <td>0.000000</td>\n",
       "      <td>-0.020025</td>\n",
       "      <td>NaN</td>\n",
       "      <td>-0.024675</td>\n",
       "      <td>-0.024675</td>\n",
       "      <td>-0.024675</td>\n",
       "    </tr>\n",
       "    <tr>\n",
       "      <th>3</th>\n",
       "      <td>1990/1/15</td>\n",
       "      <td>-0.007246</td>\n",
       "      <td>0.002554</td>\n",
       "      <td>NaN</td>\n",
       "      <td>-0.008619</td>\n",
       "      <td>-0.008619</td>\n",
       "      <td>-0.008619</td>\n",
       "    </tr>\n",
       "    <tr>\n",
       "      <th>4</th>\n",
       "      <td>1990/1/16</td>\n",
       "      <td>0.018248</td>\n",
       "      <td>0.020382</td>\n",
       "      <td>NaN</td>\n",
       "      <td>0.011128</td>\n",
       "      <td>0.011128</td>\n",
       "      <td>0.011128</td>\n",
       "    </tr>\n",
       "  </tbody>\n",
       "</table>\n",
       "</div>"
      ],
      "text/plain": [
       "             DATE         R                       RM                    \n",
       "TICKER                 AAPL       IBM TSLA      AAPL       IBM      TSLA\n",
       "0       1990/1/10 -0.043189 -0.003774  NaN -0.006607 -0.006607 -0.006607\n",
       "1       1990/1/11 -0.041667  0.008838  NaN  0.003513  0.003513  0.003513\n",
       "2       1990/1/12  0.000000 -0.020025  NaN -0.024675 -0.024675 -0.024675\n",
       "3       1990/1/15 -0.007246  0.002554  NaN -0.008619 -0.008619 -0.008619\n",
       "4       1990/1/16  0.018248  0.020382  NaN  0.011128  0.011128  0.011128"
      ]
     },
     "execution_count": 3,
     "metadata": {},
     "output_type": "execute_result"
    }
   ],
   "source": [
    "df = pd.pivot_table(df, index = ['DATE'], columns = ['TICKER'], values = ['R','RM'])\n",
    "df = df.reset_index()\n",
    "df.head()"
   ]
  },
  {
   "cell_type": "code",
   "execution_count": 4,
   "metadata": {
    "collapsed": false
   },
   "outputs": [
    {
     "name": "stdout",
     "output_type": "stream",
     "text": [
      "0   -0.043189\n",
      "1   -0.041667\n",
      "2    0.000000\n",
      "Name: AAPL, dtype: float64\n",
      "TICKER      AAPL       IBM  TSLA\n",
      "0      -0.043189 -0.003774   NaN\n",
      "1      -0.041667  0.008838   NaN\n",
      "2       0.000000 -0.020025   NaN\n",
      "0    1990/1/10\n",
      "1    1990/1/11\n",
      "2    1990/1/12\n",
      "Name: DATE, dtype: object\n"
     ]
    }
   ],
   "source": [
    "print(df['R']['AAPL'].head(3))\n",
    "print(df['R'].head(3))\n",
    "print(df['DATE'].head(3))"
   ]
  },
  {
   "cell_type": "code",
   "execution_count": 84,
   "metadata": {
    "collapsed": false
   },
   "outputs": [
    {
     "name": "stdout",
     "output_type": "stream",
     "text": [
      "           DATE TICKER        RM         R\n",
      "0      1990/1/2    IBM  0.017799  0.041169\n",
      "1      1990/1/3    IBM -0.002586  0.008929\n",
      "2      1990/1/4    IBM -0.008613  0.011378\n",
      "3      1990/1/5    IBM -0.009756 -0.002500\n",
      "4      1990/1/8    IBM  0.004514  0.006266\n",
      "6552   1990/1/2   AAPL  0.017799  0.056738\n",
      "6553   1990/1/3   AAPL -0.002586  0.006711\n",
      "6554   1990/1/4   AAPL -0.008613  0.003333\n",
      "6555   1990/1/5   AAPL -0.009756  0.003322\n",
      "6556   1990/1/8   AAPL  0.004514  0.006623\n",
      "13104  1990/1/2   TSLA  0.017799       NaN\n",
      "13105  1990/1/3   TSLA -0.002586       NaN\n",
      "13106  1990/1/4   TSLA -0.008613       NaN\n",
      "13107  1990/1/5   TSLA -0.009756       NaN\n",
      "13108  1990/1/8   TSLA  0.004514       NaN\n"
     ]
    }
   ],
   "source": [
    "#grp = df.groupby(['TICKER'])\n",
    "#print(grp.head())"
   ]
  },
  {
   "cell_type": "markdown",
   "metadata": {},
   "source": [
    "### PART 2: clean data\n",
    "#### 1. check for outliers\n",
    "#### 2. check business day"
   ]
  },
  {
   "cell_type": "code",
   "execution_count": 5,
   "metadata": {
    "collapsed": true
   },
   "outputs": [],
   "source": [
    "df.to_excel('foo.xlsx', sheet_name='Sheet1')"
   ]
  },
  {
   "cell_type": "code",
   "execution_count": 2,
   "metadata": {
    "collapsed": false
   },
   "outputs": [
    {
     "name": "stdout",
     "output_type": "stream",
     "text": [
      "        DATE      AAPL       IBM  TSLA        RM\n",
      "0  1990/1/10 -0.043189 -0.003774   NaN -0.006607\n",
      "1  1990/1/11 -0.041667  0.008838   NaN  0.003513\n",
      "2  1990/1/12  0.000000 -0.020025   NaN -0.024675\n",
      "3  1990/1/15 -0.007246  0.002554   NaN -0.008619\n",
      "4  1990/1/16  0.018248  0.020382   NaN  0.011128\n"
     ]
    }
   ],
   "source": [
    "data = pd.read_table('foo.csv', sep = ',')\n",
    "print(data.head())"
   ]
  },
  {
   "cell_type": "code",
   "execution_count": 3,
   "metadata": {
    "collapsed": false
   },
   "outputs": [
    {
     "data": {
      "text/plain": [
       "[<matplotlib.lines.Line2D at 0x117c58518>]"
      ]
     },
     "execution_count": 3,
     "metadata": {},
     "output_type": "execute_result"
    },
    {
     "data": {
      "image/png": "[encoded data removed]",
      "text/plain": [
       "<matplotlib.figure.Figure at 0x10eefbef0>"
      ]
     },
     "metadata": {},
     "output_type": "display_data"
    }
   ],
   "source": [
    "plt.plot(data['AAPL'])"
   ]
  },
  {
   "cell_type": "code",
   "execution_count": 4,
   "metadata": {
    "collapsed": true
   },
   "outputs": [],
   "source": [
    "def erase(colnames, data):\n",
    "    mean = []\n",
    "    std = []\n",
    "    for tck in colnames:\n",
    "        mean.append(data[tck].mean())\n",
    "        std.append(data[tck].std())\n",
    "    for i in range(len(data.index)):\n",
    "        if not isbday(datetime.strptime(data['DATE'][i], '%Y/%m/%d')):\n",
    "            data = data.drop([i])\n",
    "            break\n",
    "        for j in range(3):\n",
    "            tck = colnames[j]\n",
    "            if math.isnan(data[tck][i]):\n",
    "                data = data.drop([i])\n",
    "                break\n",
    "            elif abs(data[tck][i] - mean[j]) >= 3 * std[j]:\n",
    "                data = data.drop([i])\n",
    "                break\n",
    "    return data"
   ]
  },
  {
   "cell_type": "code",
   "execution_count": 5,
   "metadata": {
    "collapsed": false
   },
   "outputs": [
    {
     "data": {
      "text/plain": [
       "[<matplotlib.lines.Line2D at 0x117666d68>]"
      ]
     },
     "execution_count": 5,
     "metadata": {},
     "output_type": "execute_result"
    },
    {
     "data": {
      "image/png": "[encoded data removed]",
      "text/plain": [
       "<matplotlib.figure.Figure at 0x117c87358>"
      ]
     },
     "metadata": {},
     "output_type": "display_data"
    }
   ],
   "source": [
    "colnames = ['AAPL', 'IBM', 'TSLA']\n",
    "cleaned_data = erase(colnames, data)\n",
    "nrow = len(cleaned_data.index)\n",
    "cleaned_data.index = range(nrow)\n",
    "plt.plot(cleaned_data['AAPL'])"
   ]
  },
  {
   "cell_type": "markdown",
   "metadata": {},
   "source": [
    "## PART 3 average return and covariance matrix\n"
   ]
  },
  {
   "cell_type": "code",
   "execution_count": 28,
   "metadata": {
    "collapsed": false
   },
   "outputs": [
    {
     "data": {
      "text/plain": [
       "0        2010/10/1\n",
       "1       2010/10/11\n",
       "2       2010/10/12\n",
       "3       2010/10/13\n",
       "4       2010/10/14\n",
       "5       2010/10/15\n",
       "6       2010/10/18\n",
       "7       2010/10/19\n",
       "8       2010/10/20\n",
       "9       2010/10/21\n",
       "10      2010/10/22\n",
       "11      2010/10/25\n",
       "12      2010/10/26\n",
       "13      2010/10/27\n",
       "14      2010/10/28\n",
       "15      2010/10/29\n",
       "16       2010/10/4\n",
       "17       2010/10/5\n",
       "18       2010/10/6\n",
       "19       2010/10/7\n",
       "20       2010/10/8\n",
       "21       2010/11/1\n",
       "22      2010/11/11\n",
       "23      2010/11/12\n",
       "24      2010/11/15\n",
       "25      2010/11/16\n",
       "26      2010/11/17\n",
       "27      2010/11/18\n",
       "28      2010/11/19\n",
       "29       2010/11/2\n",
       "           ...    \n",
       "1325     2015/8/26\n",
       "1326     2015/8/27\n",
       "1327     2015/8/28\n",
       "1328      2015/8/3\n",
       "1329     2015/8/31\n",
       "1330      2015/8/4\n",
       "1331      2015/8/5\n",
       "1332      2015/8/6\n",
       "1333      2015/8/7\n",
       "1334      2015/9/1\n",
       "1335     2015/9/10\n",
       "1336     2015/9/11\n",
       "1337     2015/9/14\n",
       "1338     2015/9/15\n",
       "1339     2015/9/16\n",
       "1340     2015/9/17\n",
       "1341     2015/9/18\n",
       "1342      2015/9/2\n",
       "1343     2015/9/21\n",
       "1344     2015/9/22\n",
       "1345     2015/9/23\n",
       "1346     2015/9/24\n",
       "1347     2015/9/25\n",
       "1348     2015/9/28\n",
       "1349     2015/9/29\n",
       "1350      2015/9/3\n",
       "1351     2015/9/30\n",
       "1352      2015/9/4\n",
       "1353      2015/9/8\n",
       "1354      2015/9/9\n",
       "Name: DATE, Length: 1355, dtype: object"
      ]
     },
     "execution_count": 28,
     "metadata": {},
     "output_type": "execute_result"
    }
   ],
   "source": [
    "for tck in colnames:\n",
    "    "
   ]
  },
  {
   "cell_type": "code",
   "execution_count": 204,
   "metadata": {
    "collapsed": false
   },
   "outputs": [
    {
     "data": {
      "text/plain": [
       "Int64Index([   0,    1,    2,    3,    4,    5,    6,    7,    8,    9,\n",
       "            ...\n",
       "            6542, 6543, 6544, 6545, 6546, 6547, 6548, 6549, 6550, 6551],\n",
       "           dtype='int64', length=6467)"
      ]
     },
     "execution_count": 204,
     "metadata": {},
     "output_type": "execute_result"
    }
   ],
   "source": [
    "data.index"
   ]
  },
  {
   "cell_type": "code",
   "execution_count": null,
   "metadata": {
    "collapsed": true
   },
   "outputs": [],
   "source": []
  }
 ],
 "metadata": {
  "kernelspec": {
   "display_name": "Python 3",
   "language": "python",
   "name": "python3"
  },
  "language_info": {
   "codemirror_mode": {
    "name": "ipython",
    "version": 3
   },
   "file_extension": ".py",
   "mimetype": "text/x-python",
   "name": "python",
   "nbconvert_exporter": "python",
   "pygments_lexer": "ipython3",
   "version": "3.6.0"
  }
 },
 "nbformat": 4,
 "nbformat_minor": 2
}
