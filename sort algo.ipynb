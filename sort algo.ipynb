{
 "cells": [
  {
   "cell_type": "code",
   "execution_count": 10,
   "metadata": {
    "collapsed": false
   },
   "outputs": [],
   "source": [
    "# This is to practice sorting algos\n",
    "__author__ = 'Jessie Wang'"
   ]
  },
  {
   "cell_type": "code",
   "execution_count": 2,
   "metadata": {
    "collapsed": true
   },
   "outputs": [],
   "source": [
    "# Merge Sort\n",
    "def Merge(left, right):\n",
    "    if not left or not right:\n",
    "        return left + right\n",
    "    result = []\n",
    "    i = j = 0\n",
    "    while len(result) < len(right) + len(left):\n",
    "        if left[i] < right[j]:\n",
    "            result.append(left[i])\n",
    "            i += 1\n",
    "        else:\n",
    "            result.append(right[j])\n",
    "            j += 1\n",
    "        if i == len(left) or j == len(right):\n",
    "            result.extend(left[i:] or right[j:])\n",
    "    return result\n",
    "    \n",
    "    \n",
    "def MergeSort(nums):\n",
    "    if len(nums) < 2: return nums\n",
    "    else:\n",
    "        mid = len(nums) // 2\n",
    "        left = MergeSort(nums[:mid])\n",
    "        right = MergeSort(nums[mid:])\n",
    "        return Merge(left,right)"
   ]
  },
  {
   "cell_type": "code",
   "execution_count": 4,
   "metadata": {
    "collapsed": false
   },
   "outputs": [
    {
     "data": {
      "text/plain": [
       "[1, 2, 3, 4, 5]"
      ]
     },
     "execution_count": 4,
     "metadata": {},
     "output_type": "execute_result"
    }
   ],
   "source": [
    "nums = [2,5,1,3,4]\n",
    "MergeSort(nums)"
   ]
  },
  {
   "cell_type": "code",
   "execution_count": 5,
   "metadata": {
    "collapsed": true
   },
   "outputs": [],
   "source": [
    "# QuickSort\n",
    "def QuickSort(nums):\n",
    "    if len(nums) < 2:\n",
    "        return nums\n",
    "    else:\n",
    "        pivot = nums[0]\n",
    "        left = []\n",
    "        right = []\n",
    "        for num in nums[1:]:\n",
    "            if num < pivot:\n",
    "                left.append(num)\n",
    "            else:\n",
    "                right.append(num)\n",
    "        return QuickSort(left) + [pivot] + QuickSort(right)"
   ]
  },
  {
   "cell_type": "code",
   "execution_count": 6,
   "metadata": {
    "collapsed": false
   },
   "outputs": [
    {
     "data": {
      "text/plain": [
       "[1, 2, 3, 4, 5]"
      ]
     },
     "execution_count": 6,
     "metadata": {},
     "output_type": "execute_result"
    }
   ],
   "source": [
    "nums = [2,5,1,3,4]\n",
    "QuickSort(nums)"
   ]
  },
  {
   "cell_type": "code",
   "execution_count": 7,
   "metadata": {
    "collapsed": true
   },
   "outputs": [],
   "source": [
    "# HeapSort\n",
    "def Heapify(nums, end, root):\n",
    "    left = root * 2 + 1\n",
    "    right = root * 2 + 2\n",
    "    max_id = root\n",
    "    if left < end and nums[max_id] < nums[left]:\n",
    "        max_id = left\n",
    "    if right < end and nums[max_id] < nums[right]:\n",
    "        max_id = right\n",
    "    if max_id != root:\n",
    "        nums[root], nums[max_id] = nums[max_id], nums[root]\n",
    "        Heapify(nums, end, max_id)\n",
    "\n",
    "def HeapSort(nums):\n",
    "    n = len(nums)\n",
    "    mid = n//2 - 1\n",
    "    for i in range(mid, -1, -1):\n",
    "        Heapify(nums, n, i)\n",
    "    for i in range(n-1, 0, -1):\n",
    "        nums[i], nums[0] = nums[0], nums[i]\n",
    "        Heapify(nums, i, 0)\n",
    "    return nums\n",
    "        "
   ]
  },
  {
   "cell_type": "code",
   "execution_count": 8,
   "metadata": {
    "collapsed": false
   },
   "outputs": [
    {
     "data": {
      "text/plain": [
       "[1, 2, 3, 4, 5]"
      ]
     },
     "execution_count": 8,
     "metadata": {},
     "output_type": "execute_result"
    }
   ],
   "source": [
    "nums = [2,5,1,3,4]\n",
    "HeapSort(nums)"
   ]
  },
  {
   "cell_type": "code",
   "execution_count": null,
   "metadata": {
    "collapsed": true
   },
   "outputs": [],
   "source": []
  }
 ],
 "metadata": {
  "kernelspec": {
   "display_name": "Python 3",
   "language": "python",
   "name": "python3"
  },
  "language_info": {
   "codemirror_mode": {
    "name": "ipython",
    "version": 3
   },
   "file_extension": ".py",
   "mimetype": "text/x-python",
   "name": "python",
   "nbconvert_exporter": "python",
   "pygments_lexer": "ipython3",
   "version": "3.6.0"
  }
 },
 "nbformat": 4,
 "nbformat_minor": 2
}
